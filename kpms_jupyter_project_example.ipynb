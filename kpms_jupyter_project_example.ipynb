{
 "cells": [
  {
   "cell_type": "markdown",
   "id": "9e5255ad-c74d-49e8-9bda-9fcfd89eea7e",
   "metadata": {},
   "source": [
    "# Keypoint Moseq"
   ]
  },
  {
   "cell_type": "markdown",
   "id": "5f4fd610-9e39-4ff8-969a-a088406d458c",
   "metadata": {},
   "source": [
    "## Project Setup\n",
    "This notebook was written using the keypoint_moseq example notebooks for Jupyter and Colab as a guide. \n",
    "https://github.com/dattalab/keypoint-moseq/blob/main/docs/source/modeling.ipynb\n",
    "\n",
    "This notebook is setup to analyze keypoint data from DeepLabCuts SuperAnimal-TopViewMouse model. Data produced using other models will need a different setup.\n",
    "\n",
    "**Important Note About Paths**:  \n",
    "On WSL, do NOT use the backslash \"\\\\\" in your paths. They will not function correctly. Use the ordinary \"/\".\n",
    "Before your path, use the letter \"r\". \n",
    "Here is an example of a path that has run correctly using this notebook from WSL: \n",
    "> \"r'/mnt/c/Users/hray0/OneDrive/Desktop/231206_10min/l_only/l_cropped/videos/'\""
   ]
  },
  {
   "cell_type": "markdown",
   "id": "0d697da0-a7c1-4194-9627-356203649bcc",
   "metadata": {},
   "source": [
    "### Import keypoint_moseq\n",
    "If you are on windows 11, this must be done is Windows Subsystem for Linux."
   ]
  },
  {
   "cell_type": "code",
   "execution_count": null,
   "id": "799c2ee3-8bb2-4e6a-ad26-5893ab589a8c",
   "metadata": {},
   "outputs": [],
   "source": [
    "import keypoint_moseq as kpms"
   ]
  },
  {
   "cell_type": "code",
   "execution_count": null,
   "id": "0b23f0a7-0e50-4c40-ae72-84fd2e0a63d8",
   "metadata": {},
   "outputs": [],
   "source": [
    "project_dir = r'/mnt/c/Users/hray0/OneDrive/Desktop/test_dir/lonly_test'\n",
    "config = lambda: kpms.load_config(project_dir)"
   ]
  },
  {
   "cell_type": "markdown",
   "id": "e6b113a6-3439-4e87-ae57-9e99481a7d05",
   "metadata": {},
   "source": [
    "If you need to find the config.yaml file for the SuperAnimal-TopViewMouse model:\n",
    "On Windows the path to this file should look something like \"C:\\Users\\your_user\\anaconda3\\envs\\DEEPLABCUT\\Lib\\site-packages\\deeplabcut\\pose_estimation_tensorflow\\superanimal_configs\\supertopview.yaml\""
   ]
  },
  {
   "cell_type": "markdown",
   "id": "92cff46d-2496-4fb7-8ac7-e80ef32915a1",
   "metadata": {},
   "source": [
    "### Manual Set Up\n",
    "For more information about the bodyparts used in the SuperAnimal-TopviewMouse model see \"SuperAnimal pretrained pose estimation models for behavioral analysis.\" https://arxiv.org/abs/2203.07436"
   ]
  },
  {
   "cell_type": "code",
   "execution_count": null,
   "id": "894fb0c0-327c-4187-9320-1fbeffebbcf2",
   "metadata": {},
   "outputs": [],
   "source": [
    "# The code below sets up the project manually for data obtained using the SuperAnimal-TopViewMouse model\n",
    "bodyparts=[\n",
    "    'nose', 'left_ear', 'right_ear', 'left_ear_tip', 'right_ear_tip',\n",
    "    'left_eye', 'right_eye', 'neck', 'mid_back', 'mouse_center', 'mid_backend',\n",
    "    'mid_backend2', 'mid_backend3', 'tail_base', 'tail1', 'tail2', 'tail3',\n",
    "    'tail4', 'tail5', 'left_shoulder', 'left_midside', 'left_hip', 'right_shoulder',\n",
    "    'right_midside', 'right_hip', 'tail_end', 'head_midpoint',] \n",
    "\n",
    "skeleton=[\n",
    "    ['tail_base', 'mid_backend3'],\n",
    "    ['right_hip', 'mid_backend3'],\n",
    "    ['left_hip', 'mid_backend3'],\n",
    "    ['mid_backend3', 'mid_backend2'],\n",
    "    ['mid_backend2', 'mid_backend'],\n",
    "    ['mid_backend', 'mouse_center'],\n",
    "    ['left_midside', 'mouse_center'],\n",
    "    ['right_midside', 'mouse_center'],\n",
    "    ['mouse_center', 'mid_back'],\n",
    "    ['left_shoulder', 'mid_back'],\n",
    "    ['right_shoulder', 'mid_back'],\n",
    "    ['mid_back', 'neck'],\n",
    "    ['neck', 'head_midpoint'],\n",
    "    ['head_midpoint', 'left_ear'],\n",
    "    ['head_midpoint', 'right_ear'],\n",
    "    ['left_ear', 'left_ear_tip'],\n",
    "    ['right_ear', 'right_ear_tip'],\n",
    "    ['head_midpoint', 'left_eye'],\n",
    "    ['head_midpoint', 'right_eye'],\n",
    "    ['head_midpoint', 'nose'],]\n",
    "\n",
    "video_dir= r'mnt/c/Users/hray0/OneDrive/Desktop/231206_10min/l_only/l_cropped/videos/' #directory with videos of each experiment \n",
    "\n",
    "kpms.setup_project(\n",
    "    project_dir,\n",
    "    video_dir=video_dir,\n",
    "    bodyparts=bodyparts,\n",
    "    skeleton=skeleton)"
   ]
  },
  {
   "cell_type": "markdown",
   "id": "5d02c0e7-169b-403e-a5be-a768fc900e4b",
   "metadata": {},
   "source": [
    "### Edit the Config\n",
    "This step is critical, because it specifies which bodyparts moseq will use in its analysis. Typically, the keypoint data will include all of the bodyparts available in the DLC topview model. Using fewer keypoints is advisable, and omitting the tail is recommended. I've set up the following cell to use 10 keypoints."
   ]
  },
  {
   "cell_type": "code",
   "execution_count": null,
   "id": "ceb759a5-3424-4b0f-b757-80ff6fac6f08",
   "metadata": {},
   "outputs": [],
   "source": [
    "kpms.update_config(\n",
    "    project_dir,\n",
    "    video_dir=r'/mnt/c/Users/hray0/OneDrive/Desktop/231206_10min/l_only/l_cropped/videos/',\n",
    "    anterior_bodyparts=['nose'],\n",
    "    posterior_bodyparts=['tail_base'],\n",
    "    use_bodyparts=[\n",
    "        'nose', 'left_ear', 'right_ear', 'neck', 'mid_back', 'mouse_center', 'mid_backend',\n",
    "        'mid_backend2', 'mid_backend3', 'tail_base',])\n",
    "\n",
    "# use_bodyparts tells moseq which keypoints to use from the DLC data. \n",
    "# The keypoint-moseq docs recommend omitting the tail. "
   ]
  },
  {
   "cell_type": "markdown",
   "id": "bdace21c-8e85-4eef-a46c-27d4a13302ff",
   "metadata": {},
   "source": [
    "## Working with Data"
   ]
  },
  {
   "cell_type": "markdown",
   "id": "b1de8d71-5552-43e9-be0b-4a662a1e02a3",
   "metadata": {},
   "source": [
    "### Load Data"
   ]
  },
  {
   "cell_type": "code",
   "execution_count": null,
   "id": "92637565-f07d-46a1-897d-e3cf4a9ac314",
   "metadata": {},
   "outputs": [],
   "source": [
    "# Make sure your keypoint data is in the folder labeled 'videos.'  \n",
    "# load data from DeepLabCut\n",
    "keypoint_data_path = r'/mnt/c/Users/hray0/OneDrive/Desktop/231206_10min/l_only/l_cropped/videos/' # can be a file, a directory, or a list of files\n",
    "coordinates, confidences, bodyparts = kpms.load_keypoints(keypoint_data_path, 'deeplabcut')\n",
    "\n",
    "# format data for modeling\n",
    "data, metadata = kpms.format_data(coordinates, confidences, **config())"
   ]
  },
  {
   "cell_type": "markdown",
   "id": "9c7fc78e-4a3e-4a39-99bb-d5c150a7ba23",
   "metadata": {},
   "source": [
    "### Calibration"
   ]
  },
  {
   "cell_type": "markdown",
   "id": "cba336fd-12fc-4886-a60f-3f807ea8e32f",
   "metadata": {},
   "source": [
    "This step requires jupyter lab. It will not work in jupyter notebook.\n",
    "\n",
    "The purpose of calibration is to learn the relationship between keypoint error and confidence scores, which is stored in the config as a pair of slope and intercept coefficients. One can also adjust the confidence_threshold parameter at this step, which is used to define outlier keypoints for PCA and model initialization. This step can be skipped for the demo data.\n",
    "\n",
    "    Run the cell below. A widget should appear with a video frame on the left.\n",
    "\n",
    "    Annotate each frame with the correct location of the labeled bodypart\n",
    "\n",
    "        Left click to specify the correct location - an “X” should appear.\n",
    "\n",
    "        Use the arrow buttons to annotate additional frames.\n",
    "\n",
    "        Each annotation adds a point to the right-hand scatter plot.\n",
    "\n",
    "        Continue until the regression line stabilizes.\n",
    "\n",
    "    At any point, adjust the confidence threshold by clicking on the scatter plot.\n",
    "\n",
    "    Use the “save” button to update the config and store your annotations to disk.\n"
   ]
  },
  {
   "cell_type": "code",
   "execution_count": null,
   "id": "7c0e3032-dccb-4c75-918e-abea1d6d12d2",
   "metadata": {},
   "outputs": [],
   "source": [
    "kpms.noise_calibration(project_dir, coordinates, confidences, **config())"
   ]
  },
  {
   "cell_type": "markdown",
   "id": "dbe6386f-82e4-4009-be6b-13f85648f1ae",
   "metadata": {},
   "source": [
    "### Fit PCA"
   ]
  },
  {
   "cell_type": "code",
   "execution_count": null,
   "id": "6deba746-1fe2-4a4f-88d9-795b03dbf456",
   "metadata": {},
   "outputs": [],
   "source": [
    "pca = kpms.fit_pca(**data, **config())\n",
    "kpms.save_pca(pca, project_dir)\n",
    "\n",
    "kpms.print_dims_to_explain_variance(pca, 0.9)\n",
    "kpms.plot_scree(pca, project_dir=project_dir)\n",
    "kpms.plot_pcs(pca, project_dir=project_dir, **config())\n",
    "\n",
    "# use the following to load an already fit model\n",
    "# pca = kpms.load_pca(project_dir)"
   ]
  },
  {
   "cell_type": "code",
   "execution_count": null,
   "id": "06fd1fa2-e83b-4f38-917e-265346df750c",
   "metadata": {},
   "outputs": [],
   "source": [
    "kpms.update_config(project_dir, latent_dim=7)"
   ]
  },
  {
   "cell_type": "markdown",
   "id": "68b93dcd-0d89-441a-b457-e16b737457a9",
   "metadata": {},
   "source": [
    "### Model Fitting"
   ]
  },
  {
   "cell_type": "markdown",
   "id": "50c693ec-30c4-412f-9977-3122cb177132",
   "metadata": {
    "jp-MarkdownHeadingCollapsed": true
   },
   "source": [
    "#### Setting Kappa"
   ]
  },
  {
   "cell_type": "markdown",
   "id": "88031938-98e6-4b6c-88b9-23152297aebb",
   "metadata": {},
   "source": [
    "Automatic Kappa Scan"
   ]
  },
  {
   "cell_type": "code",
   "execution_count": null,
   "id": "f356d680-02b5-40d5-a296-6e6509d97984",
   "metadata": {},
   "outputs": [],
   "source": [
    "import numpy as np\n",
    "\n",
    "kappas = np.logspace(3,7,5)\n",
    "decrease_kappa_factor = 10\n",
    "num_ar_iters = 50\n",
    "num_full_iters = 200\n",
    "\n",
    "prefix = 'my_kappa_scan'\n",
    "\n",
    "for kappa in kappas:\n",
    "    print(f\"Fitting model with kappa={kappa}\")\n",
    "    model_name = f'{prefix}-{kappa}'\n",
    "    model = kpms.init_model(data, pca=pca, **config())\n",
    "\n",
    "    # stage 1: fit the model with AR only\n",
    "    model = kpms.update_hypparams(model, kappa=kappa)\n",
    "    model = kpms.fit_model(\n",
    "        model,\n",
    "        data,\n",
    "        metadata,\n",
    "        project_dir,\n",
    "        model_name,\n",
    "        ar_only=True,\n",
    "        num_iters=num_ar_iters,\n",
    "        save_every_n_iters=25\n",
    "    )[0];\n",
    "\n",
    "    # stage 2: fit the full model\n",
    "    model = kpms.update_hypparams(model, kappa=kappa/decrease_kappa_factor)\n",
    "    kpms.fit_model(\n",
    "        model,\n",
    "        data,\n",
    "        metadata,\n",
    "        project_dir,\n",
    "        model_name,\n",
    "        ar_only=False,\n",
    "        start_iter=num_ar_iters,\n",
    "        num_iters=num_full_iters,\n",
    "        save_every_n_iters=25\n",
    "    );\n",
    "\n",
    "kpms.plot_kappa_scan(kappas, project_dir, prefix)"
   ]
  },
  {
   "cell_type": "markdown",
   "id": "b1fb1af6-858a-44b1-9767-cdc30886b886",
   "metadata": {},
   "source": [
    "#### Initialization"
   ]
  },
  {
   "cell_type": "code",
   "execution_count": null,
   "id": "a811071c-22ef-44fa-a400-9d677b36f228",
   "metadata": {},
   "outputs": [],
   "source": [
    "# initialize the model\n",
    "model = kpms.init_model(data, pca=pca, **config())\n",
    "\n",
    "# optionally modify kappa\n",
    "model = kpms.update_hypparams(model, kappa=1e6)"
   ]
  },
  {
   "cell_type": "markdown",
   "id": "d45ab527-7852-4563-81f1-96929a4220f4",
   "metadata": {},
   "source": [
    "#### Fitting an AR-HMM"
   ]
  },
  {
   "cell_type": "code",
   "execution_count": null,
   "id": "1dc5f3ce-5b3a-4017-9b6a-fcacae1a9ff5",
   "metadata": {},
   "outputs": [],
   "source": [
    "num_ar_iters = 50\n",
    "\n",
    "model, model_name = kpms.fit_model(\n",
    "    model, data, metadata, project_dir,\n",
    "    ar_only=True, num_iters=num_ar_iters)"
   ]
  },
  {
   "cell_type": "markdown",
   "id": "ff75f5b4-715a-4879-9c29-6254de019aa7",
   "metadata": {},
   "source": [
    "#### Fitting the Full Model"
   ]
  },
  {
   "cell_type": "code",
   "execution_count": null,
   "id": "017ef804-89ae-4727-b772-ad6eb2ec1bac",
   "metadata": {
    "scrolled": true
   },
   "outputs": [],
   "source": [
    "# load model checkpoint\n",
    "model, data, metadata, current_iter = kpms.load_checkpoint(\n",
    "    project_dir, model_name, iteration=num_ar_iters)\n",
    "\n",
    "# modify kappa to maintain the desired syllable time-scale\n",
    "model = kpms.update_hypparams(model, kappa=1e4)\n",
    "\n",
    "# run fitting for an additional 500 iters\n",
    "model = kpms.fit_model(\n",
    "    model, data, metadata, project_dir, model_name, ar_only=False, \n",
    "    start_iter=current_iter, num_iters=current_iter+500)[0] "
   ]
  },
  {
   "cell_type": "markdown",
   "id": "8f6a6565-7c09-47f7-91cf-e17bd9fd8683",
   "metadata": {
    "jupyter": {
     "source_hidden": true
    }
   },
   "source": [
    "#### Sort Syllables by Frequency"
   ]
  },
  {
   "cell_type": "code",
   "execution_count": null,
   "id": "a0a4710a-a47a-4ff9-a394-b80fe20de17e",
   "metadata": {},
   "outputs": [],
   "source": [
    "# modify a saved checkpoint so syllables are ordered by frequency\n",
    "kpms.reindex_syllables_in_checkpoint(project_dir, model_name);"
   ]
  },
  {
   "cell_type": "markdown",
   "id": "b590bcc7-8021-4df7-bab3-0dc8bc4e6570",
   "metadata": {},
   "source": [
    "#### Extract Model Results"
   ]
  },
  {
   "cell_type": "code",
   "execution_count": null,
   "id": "65ebfb2e-0faa-4bec-a975-063e58f24080",
   "metadata": {},
   "outputs": [],
   "source": [
    "# load the most recent model checkpoint\n",
    "model, data, metadata, current_iter = kpms.load_checkpoint(project_dir, model_name)\n",
    "\n",
    "# extract results\n",
    "results = kpms.extract_results(model, metadata, project_dir, model_name)"
   ]
  },
  {
   "cell_type": "markdown",
   "id": "f06950f0-4ab4-4724-b94c-906f94adc243",
   "metadata": {},
   "source": [
    "#### Save Results as csv"
   ]
  },
  {
   "cell_type": "code",
   "execution_count": null,
   "id": "8bcab4c9-3983-4fd7-aa7f-7b95f85d8832",
   "metadata": {},
   "outputs": [],
   "source": [
    "# optionally save results as csv\n",
    "kpms.save_results_as_csv(results, project_dir, model_name)"
   ]
  },
  {
   "cell_type": "markdown",
   "id": "77b3dd70-e327-4fc8-8dae-ace392dff564",
   "metadata": {},
   "source": [
    "### Apply to New Data"
   ]
  },
  {
   "cell_type": "code",
   "execution_count": null,
   "id": "fd66ef8a-0068-4a8a-b09c-721e4266d1a0",
   "metadata": {},
   "outputs": [],
   "source": [
    "# load the most recent model checkpoint and pca object\n",
    "model = kpms.load_checkpoint(project_dir, model_name)[0]\n",
    "\n",
    "# load new data (e.g. from deeplabcut)\n",
    "new_data = 'path/to/new/data/' # can be a file, a directory, or a list of files\n",
    "coordinates, confidences, bodyparts = kpms.load_keypoints(new_data, 'deeplabcut')\n",
    "data, metadata = kpms.format_data(coordinates, confidences, **config())\n",
    "\n",
    "# apply saved model to new data\n",
    "results = kpms.apply_model(model, data, metadata, project_dir, model_name, **config())\n",
    "\n",
    "# optionally rerun `save_results_as_csv` to export the new results\n",
    "# kpms.save_results_as_csv(results, project_dir, model_name)"
   ]
  },
  {
   "cell_type": "markdown",
   "id": "365cc8ba-a15a-4af1-8f77-a94c0cb0743e",
   "metadata": {},
   "source": [
    "## Visualization"
   ]
  },
  {
   "cell_type": "markdown",
   "id": "15d6a406-49ae-4017-b1e5-6216ae065ab7",
   "metadata": {},
   "source": [
    "### Trajectory Plots"
   ]
  },
  {
   "cell_type": "code",
   "execution_count": null,
   "id": "94145a4f-6765-4b7a-a37d-5cd9ccce6887",
   "metadata": {},
   "outputs": [],
   "source": [
    "results = kpms.load_results(project_dir, model_name)\n",
    "kpms.generate_trajectory_plots(coordinates, results, project_dir, model_name, **config())"
   ]
  },
  {
   "cell_type": "markdown",
   "id": "227e14ea-7fb9-42d1-87b6-40b1fe588362",
   "metadata": {},
   "source": [
    "### Grid Movies"
   ]
  },
  {
   "cell_type": "code",
   "execution_count": null,
   "id": "131c1948-c6b0-4cad-b844-0fbf4fcc3008",
   "metadata": {},
   "outputs": [],
   "source": [
    "kpms.generate_grid_movies(results, project_dir, model_name, coordinates=coordinates, **config());"
   ]
  },
  {
   "cell_type": "markdown",
   "id": "728677d3-1190-428b-9195-ca69844e9d43",
   "metadata": {},
   "source": [
    "### Syllable Dendrogram"
   ]
  },
  {
   "cell_type": "code",
   "execution_count": null,
   "id": "88d39541-9574-40e3-b454-ae80af4cde0a",
   "metadata": {},
   "outputs": [],
   "source": [
    "kpms.plot_similarity_dendrogram(coordinates, results, project_dir, model_name, **config())"
   ]
  }
 ],
 "metadata": {
  "kernelspec": {
   "display_name": "Python [conda env:keypoint_moseq]",
   "language": "python",
   "name": "conda-env-keypoint_moseq-py"
  },
  "language_info": {
   "codemirror_mode": {
    "name": "ipython",
    "version": 3
   },
   "file_extension": ".py",
   "mimetype": "text/x-python",
   "name": "python",
   "nbconvert_exporter": "python",
   "pygments_lexer": "ipython3",
   "version": "3.10.16"
  }
 },
 "nbformat": 4,
 "nbformat_minor": 5
}
